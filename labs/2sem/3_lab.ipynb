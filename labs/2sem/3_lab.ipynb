{
 "cells": [
  {
   "cell_type": "code",
   "execution_count": 11,
   "id": "initial_id",
   "metadata": {
    "collapsed": true,
    "ExecuteTime": {
     "end_time": "2024-03-07T20:42:47.784016800Z",
     "start_time": "2024-03-07T20:42:47.777930900Z"
    }
   },
   "outputs": [],
   "source": [
    "import numpy as np\n",
    "\n",
    "from src.inout import InOuter\n",
    "from src.model import Model\n",
    "from src.analysis import Analyzer\n",
    "from src.processing import Processor\n",
    "\n",
    "inout = InOuter()\n",
    "model = Model()\n",
    "analyzer = Analyzer()\n",
    "processor = Processor()\n",
    "img_path = '../../data/'"
   ]
  },
  {
   "cell_type": "code",
   "outputs": [],
   "source": [
    "img = inout.read_jpg(img_path + 'grace.jpg')"
   ],
   "metadata": {
    "collapsed": false,
    "ExecuteTime": {
     "end_time": "2024-03-07T20:42:47.802347300Z",
     "start_time": "2024-03-07T20:42:47.782426400Z"
    }
   },
   "id": "f41bb46ae5648be0",
   "execution_count": 12
  },
  {
   "cell_type": "code",
   "outputs": [],
   "source": [
    "img_scale_up_nearest = inout.resize_image(img, 1.3,1.3, 'nearest')\n",
    "inout.write_jpg(img_scale_up_nearest, img_path + 'grace_nearest_1_3.jpg')\n",
    "\n",
    "img_scale_down_nearest = inout.resize_image(img, 0.7,0.7, 'nearest')\n",
    "inout.write_jpg(img_scale_down_nearest, img_path + 'grace_nearest_0_7.jpg')"
   ],
   "metadata": {
    "collapsed": false,
    "ExecuteTime": {
     "end_time": "2024-03-07T20:42:47.803415900Z",
     "start_time": "2024-03-07T20:42:47.789208600Z"
    }
   },
   "id": "108f4809e131ac96",
   "execution_count": 13
  },
  {
   "cell_type": "markdown",
   "source": [],
   "metadata": {
    "collapsed": false
   },
   "id": "5ecd8c9cbf3fe6b7"
  },
  {
   "cell_type": "code",
   "outputs": [],
   "source": [
    "img_scale_up_bilinear = inout.resize_image(img.astype(np.float32), 1.3,1.3, 'bilinear').astype(np.int32)\n",
    "inout.write_jpg(img_scale_up_bilinear, img_path + 'grace_bilinear_1_3.jpg')\n",
    "\n",
    "img_scale_down_bilinear = inout.resize_image(img.astype(np.float32), 0.7, 0.7,'bilinear').astype(np.int32)\n",
    "inout.write_jpg(img_scale_down_bilinear, img_path + 'grace_bilinear_0_7.jpg')"
   ],
   "metadata": {
    "collapsed": false,
    "ExecuteTime": {
     "end_time": "2024-03-07T20:42:47.817479500Z",
     "start_time": "2024-03-07T20:42:47.806216200Z"
    }
   },
   "id": "4964ab931e4a06b",
   "execution_count": 14
  },
  {
   "cell_type": "code",
   "outputs": [],
   "source": [
    "img = np.fromfile(img_path + 'c12-85v_1Kx1K.bin', dtype=np.uint16).reshape(1024, 1024)\n",
    "img = inout.resize_image(img.astype(np.float32), 0.7, 0.7, 'bilinear').astype(np.int32)\n",
    "inout.write_jpg(img.T, img_path + 'c12-85v.jpg')"
   ],
   "metadata": {
    "collapsed": false,
    "ExecuteTime": {
     "end_time": "2024-03-07T20:42:47.836862Z",
     "start_time": "2024-03-07T20:42:47.817479500Z"
    }
   },
   "id": "8d9640bd621a92f0",
   "execution_count": 15
  }
 ],
 "metadata": {
  "kernelspec": {
   "display_name": "Python 3",
   "language": "python",
   "name": "python3"
  },
  "language_info": {
   "codemirror_mode": {
    "name": "ipython",
    "version": 2
   },
   "file_extension": ".py",
   "mimetype": "text/x-python",
   "name": "python",
   "nbconvert_exporter": "python",
   "pygments_lexer": "ipython2",
   "version": "2.7.6"
  }
 },
 "nbformat": 4,
 "nbformat_minor": 5
}
