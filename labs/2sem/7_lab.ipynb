{
 "cells": [
  {
   "cell_type": "code",
   "execution_count": 292,
   "id": "initial_id",
   "metadata": {
    "collapsed": true,
    "ExecuteTime": {
     "end_time": "2024-03-22T18:49:42.502859700Z",
     "start_time": "2024-03-22T18:49:42.497460700Z"
    }
   },
   "outputs": [],
   "source": [
    "import matplotlib.pyplot as plt\n",
    "import numpy as np\n",
    "\n",
    "from src.inout import InOuter\n",
    "from src.model import Model\n",
    "from src.analysis import Analyzer\n",
    "from src.processing import Processor\n",
    "import src.utils.statistics as stat\n",
    "\n",
    "inout = InOuter()\n",
    "model = Model()\n",
    "analyzer = Analyzer()\n",
    "processor = Processor()\n",
    "img_path = '../../data/'"
   ]
  },
  {
   "cell_type": "code",
   "outputs": [],
   "source": [
    "def salt_and_pepper(img_data, prob_pixel_change=0.05):\n",
    "    return np.vectorize(lambda pixel: np.random.choice([0 ,255, pixel],\n",
    "                        p = [prob_pixel_change / 2, prob_pixel_change/ 2, 1 - prob_pixel_change]))(img_data)\n",
    "\n",
    "def normal_noise(img_data, intensity = 10):\n",
    "    return np.array([img_row + np.random.normal(size = len(img_row)) * intensity for img_row in img_data], dtype=np.uint8)\n",
    "\n",
    "def linear_filter(img_data, kernel=3):\n",
    "    return np.mean(np.lib.stride_tricks.sliding_window_view(img_data, (kernel, kernel)), axis=(2,3))\n",
    "\n",
    "def median_filter(img_data, kernel=3):\n",
    "    return np.median(np.lib.stride_tricks.sliding_window_view(img_data, (kernel, kernel)), axis=(2,3))\n"
   ],
   "metadata": {
    "collapsed": false,
    "ExecuteTime": {
     "end_time": "2024-03-22T18:49:42.516871900Z",
     "start_time": "2024-03-22T18:49:42.505847700Z"
    }
   },
   "id": "239e877834685dde",
   "execution_count": 293
  },
  {
   "cell_type": "code",
   "outputs": [],
   "source": [
    "def do_lab(img_name):\n",
    "    img = inout.read_jpg(img_path + img_name)\n",
    "    img_dict = dict()\n",
    "    img_dict['salt'] =  salt_and_pepper(img)\n",
    "    img_dict['gauss'] = normal_noise(img)\n",
    "    img_dict['mixed'] = normal_noise(salt_and_pepper(img))\n",
    "    \n",
    "    for key in img_dict:\n",
    "        inout.write_jpg(img_dict[key], img_path + key + '_' + img_name)\n",
    "    \n",
    "    for key in img_dict:\n",
    "        inout.write_jpg(median_filter(img_dict[key]), img_path + key + '_' + 'median' + '_' + img_name)\n",
    "        \n",
    "    for key in img_dict:\n",
    "        inout.write_jpg(linear_filter(img_dict[key]), img_path +  key + '_' + 'linear' + '_' + img_name)"
   ],
   "metadata": {
    "collapsed": false,
    "ExecuteTime": {
     "end_time": "2024-03-22T18:49:42.522060300Z",
     "start_time": "2024-03-22T18:49:42.514858400Z"
    }
   },
   "id": "4afc3dc2d8b04403",
   "execution_count": 294
  },
  {
   "cell_type": "code",
   "outputs": [],
   "source": [
    "do_lab('MODELimage.jpg')"
   ],
   "metadata": {
    "collapsed": false,
    "ExecuteTime": {
     "end_time": "2024-03-22T18:49:46.399764900Z",
     "start_time": "2024-03-22T18:49:42.523110900Z"
    }
   },
   "id": "4394151681eccf5f",
   "execution_count": 295
  }
 ],
 "metadata": {
  "kernelspec": {
   "display_name": "Python 3",
   "language": "python",
   "name": "python3"
  },
  "language_info": {
   "codemirror_mode": {
    "name": "ipython",
    "version": 2
   },
   "file_extension": ".py",
   "mimetype": "text/x-python",
   "name": "python",
   "nbconvert_exporter": "python",
   "pygments_lexer": "ipython2",
   "version": "2.7.6"
  }
 },
 "nbformat": 4,
 "nbformat_minor": 5
}
